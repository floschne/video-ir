{
 "cells": [
  {
   "cell_type": "code",
   "execution_count": 3,
   "id": "cb4524ed-154f-4660-a88a-f22ebef210f3",
   "metadata": {},
   "outputs": [],
   "source": [
    "import torch\n",
    "from transformers import AutoProcessor, AutoModel\n",
    "from pathlib import Path\n",
    "from pytube import YouTube\n",
    "import numpy as np\n",
    "from decord import VideoReader\n",
    "import imageio"
   ]
  },
  {
   "cell_type": "code",
   "execution_count": 6,
   "id": "2163ac94-309e-4934-9718-eb6ba5b33c1a",
   "metadata": {},
   "outputs": [],
   "source": [
    "# !pip install ffmpeg\n",
    "# !pip install pytube3"
   ]
  },
  {
   "cell_type": "code",
   "execution_count": 4,
   "id": "b4ef00bf-4988-4a78-8dbd-40e653d8c1a8",
   "metadata": {},
   "outputs": [],
   "source": [
    "def download_youtube_video(url: str):\n",
    "    yt = YouTube(url)\n",
    "\n",
    "    streams = yt.streams.filter(file_extension=\"mp4\")\n",
    "    file_path = streams[0].download()\n",
    "    return file_path\n",
    "\n",
    "def sample_frames_from_video_file(\n",
    "    file_path: str, num_frames: int = 16, frame_sampling_rate=1\n",
    "):\n",
    "    videoreader = VideoReader(file_path)\n",
    "    videoreader.seek(0)\n",
    "\n",
    "    # sample frames\n",
    "    start_idx = 0\n",
    "    end_idx = num_frames * frame_sampling_rate - 1\n",
    "    indices = np.linspace(start_idx, end_idx, num=num_frames, dtype=np.int64)\n",
    "    frames = videoreader.get_batch(indices).asnumpy()\n",
    "\n",
    "    return frames\n",
    "\n",
    "\n",
    "def get_num_total_frames(file_path: str):\n",
    "    videoreader = VideoReader(file_path)\n",
    "    videoreader.seek(0)\n",
    "    return len(videoreader)\n",
    "\n",
    "\n",
    "def convert_frames_to_gif(frames, save_path: str = \"frames.gif\"):\n",
    "    converted_frames = frames.astype(np.uint8)\n",
    "    Path(save_path).parent.mkdir(parents=True, exist_ok=True)\n",
    "    imageio.mimsave(save_path, converted_frames, fps=8)\n",
    "    return save_path\n",
    "\n",
    "\n",
    "def create_gif_from_video_file(\n",
    "    file_path: str,\n",
    "    num_frames: int = 16,\n",
    "    frame_sampling_rate: int = 1,\n",
    "    save_path: str = \"frames.gif\",\n",
    "):\n",
    "    frames = sample_frames_from_video_file(file_path, num_frames, frame_sampling_rate)\n",
    "    return convert_frames_to_gif(frames, save_path)"
   ]
  },
  {
   "cell_type": "code",
   "execution_count": 5,
   "id": "efb08bfe-8db1-4ce9-8b03-01c3a9a53057",
   "metadata": {},
   "outputs": [],
   "source": [
    "def predict(youtube_url_or_file_path, labels_text, processor, model):\n",
    "\n",
    "    if youtube_url_or_file_path.startswith(\"http\"):\n",
    "        video_path = download_youtube_video(youtube_url_or_file_path)\n",
    "    else:\n",
    "        video_path = youtube_url_or_file_path\n",
    "    \n",
    "    # rearrange sampling rate based on video length and model input length\n",
    "    num_total_frames = get_num_total_frames(video_path)\n",
    "    num_model_input_frames = model.config.vision_config.num_frames\n",
    "    if num_total_frames < FRAME_SAMPLING_RATE * num_model_input_frames:\n",
    "        frame_sampling_rate = num_total_frames // num_model_input_frames\n",
    "    else:\n",
    "        frame_sampling_rate = FRAME_SAMPLING_RATE\n",
    "\n",
    "    labels = labels_text.split(\",\")\n",
    "\n",
    "    frames = sample_frames_from_video_file(\n",
    "        video_path, num_model_input_frames, frame_sampling_rate\n",
    "    )\n",
    "    gif_path = convert_frames_to_gif(frames, save_path=\"video.gif\")\n",
    "\n",
    "    inputs = processor(\n",
    "        text=labels, videos=list(frames), return_tensors=\"pt\", padding=True\n",
    "    )\n",
    "    # forward pass\n",
    "    with torch.no_grad():\n",
    "        outputs = model(**inputs)\n",
    "\n",
    "    probs = outputs.logits_per_video[0].softmax(dim=-1).cpu().numpy()\n",
    "    label_to_prob = {}\n",
    "    for ind, label in enumerate(labels):\n",
    "        label_to_prob[label] = float(probs[ind])\n",
    "\n",
    "    return label_to_prob, gif_path"
   ]
  },
  {
   "cell_type": "code",
   "execution_count": 13,
   "id": "ca1c3b0c-1841-4005-a858-e7034a0a1ece",
   "metadata": {},
   "outputs": [],
   "source": [
    "FRAME_SAMPLING_RATE = 4\n",
    "DEFAULT_MODEL = \"microsoft/xclip-base-patch16-zero-shot\"\n",
    "\n",
    "VALID_ZEROSHOT_VIDEOCLASSIFICATION_MODELS = [\n",
    "    \"microsoft/xclip-base-patch32\",\n",
    "    \"microsoft/xclip-base-patch16-zero-shot\",\n",
    "    \"microsoft/xclip-base-patch16-kinetics-600\",\n",
    "    \"microsoft/xclip-large-patch14ft/xclip-base-patch32-16-frames\",\n",
    "    \"microsoft/xclip-large-patch14\",\n",
    "    \"microsoft/xclip-base-patch16-hmdb-4-shot\",\n",
    "    \"microsoft/xclip-base-patch16-16-frames\",\n",
    "    \"microsoft/xclip-base-patch16-hmdb-2-shot\",\n",
    "    \"microsoft/xclip-base-patch16-ucf-2-shot\",\n",
    "    \"microsoft/xclip-base-patch16-ucf-8-shot\",\n",
    "    \"microsoft/xclip-base-patch16\",\n",
    "    \"microsoft/xclip-base-patch16-hmdb-8-shot\",\n",
    "    \"microsoft/xclip-base-patch16-hmdb-16-shot\",\n",
    "    \"microsoft/xclip-base-patch16-ucf-16-shot\",\n",
    "]\n",
    "\n",
    "examples = [\n",
    "    [\n",
    "        \"https://www.youtu.be/l1dBM8ZECao\",\n",
    "        \"sleeping dog,cat fight club,birds of prey\",\n",
    "    ],\n",
    "    [\n",
    "        \"https://youtu.be/VMj-3S1tku0\",\n",
    "        \"programming course,eating spaghetti,playing football\",\n",
    "    ],\n",
    "    [\n",
    "        \"https://youtu.be/BRw7rvLdGzU\",\n",
    "        \"game of thrones,the lord of the rings,vikings\",\n",
    "    ],\n",
    "    [\n",
    "        \"froset.mp4\",\n",
    "        \"a frog is sitting and snoring, a frog is jumping, a car driving fast, the moon is shining\"\n",
    "    ]\n",
    "    \n",
    "]"
   ]
  },
  {
   "cell_type": "code",
   "execution_count": 8,
   "id": "9380710d-ea3e-46d4-b500-193f4908b51f",
   "metadata": {},
   "outputs": [],
   "source": [
    "processor = AutoProcessor.from_pretrained(DEFAULT_MODEL)\n",
    "model = AutoModel.from_pretrained(DEFAULT_MODEL)"
   ]
  },
  {
   "cell_type": "code",
   "execution_count": 14,
   "id": "583bdff1-20d1-4671-94df-3b7ffc23c1f4",
   "metadata": {},
   "outputs": [
    {
     "data": {
      "text/plain": [
       "({'a frog is sitting and snoring': 0.05727091804146767,\n",
       "  ' a frog is jumping': 0.11851947754621506,\n",
       "  ' a car driving fast': 0.057707324624061584,\n",
       "  ' the moon is shining': 0.7665022015571594},\n",
       " 'video.gif')"
      ]
     },
     "execution_count": 14,
     "metadata": {},
     "output_type": "execute_result"
    }
   ],
   "source": [
    "predict(*examples[3], processor, model)"
   ]
  },
  {
   "cell_type": "code",
   "execution_count": 19,
   "id": "2c107d62-5af6-4c63-91c8-4274feae65e7",
   "metadata": {},
   "outputs": [
    {
     "ename": "AttributeError",
     "evalue": "'NoneType' object has no attribute 'span'",
     "output_type": "error",
     "traceback": [
      "\u001b[0;31m---------------------------------------------------------------------------\u001b[0m",
      "\u001b[0;31mAttributeError\u001b[0m                            Traceback (most recent call last)",
      "Cell \u001b[0;32mIn[19], line 8\u001b[0m\n\u001b[1;32m      6\u001b[0m     file_path \u001b[38;5;241m=\u001b[39m streams[\u001b[38;5;241m0\u001b[39m]\u001b[38;5;241m.\u001b[39mdownload()\n\u001b[1;32m      7\u001b[0m     \u001b[38;5;28;01mreturn\u001b[39;00m file_path\n\u001b[0;32m----> 8\u001b[0m \u001b[43mdownload_youtube_video\u001b[49m\u001b[43m(\u001b[49m\u001b[38;5;124;43m'\u001b[39;49m\u001b[38;5;124;43mhttps://www.youtube.com/watch?v=dQw4w9WgXcQ\u001b[39;49m\u001b[38;5;124;43m'\u001b[39;49m\u001b[43m)\u001b[49m\n",
      "Cell \u001b[0;32mIn[19], line 5\u001b[0m, in \u001b[0;36mdownload_youtube_video\u001b[0;34m(url)\u001b[0m\n\u001b[1;32m      2\u001b[0m \u001b[38;5;28;01mdef\u001b[39;00m \u001b[38;5;21mdownload_youtube_video\u001b[39m(url: \u001b[38;5;28mstr\u001b[39m):\n\u001b[1;32m      3\u001b[0m     yt \u001b[38;5;241m=\u001b[39m YouTube(url)\n\u001b[0;32m----> 5\u001b[0m     streams \u001b[38;5;241m=\u001b[39m \u001b[43myt\u001b[49m\u001b[38;5;241;43m.\u001b[39;49m\u001b[43mstreams\u001b[49m\u001b[38;5;241m.\u001b[39mfilter(file_extension\u001b[38;5;241m=\u001b[39m\u001b[38;5;124m\"\u001b[39m\u001b[38;5;124mmp4\u001b[39m\u001b[38;5;124m\"\u001b[39m)\n\u001b[1;32m      6\u001b[0m     file_path \u001b[38;5;241m=\u001b[39m streams[\u001b[38;5;241m0\u001b[39m]\u001b[38;5;241m.\u001b[39mdownload()\n\u001b[1;32m      7\u001b[0m     \u001b[38;5;28;01mreturn\u001b[39;00m file_path\n",
      "File \u001b[0;32m~/miniconda3/envs/xclip/lib/python3.10/site-packages/pytube/__main__.py:296\u001b[0m, in \u001b[0;36mYouTube.streams\u001b[0;34m(self)\u001b[0m\n\u001b[1;32m    291\u001b[0m \u001b[38;5;250m\u001b[39m\u001b[38;5;124;03m\"\"\"Interface to query both adaptive (DASH) and progressive streams.\u001b[39;00m\n\u001b[1;32m    292\u001b[0m \n\u001b[1;32m    293\u001b[0m \u001b[38;5;124;03m:rtype: :class:`StreamQuery <StreamQuery>`.\u001b[39;00m\n\u001b[1;32m    294\u001b[0m \u001b[38;5;124;03m\"\"\"\u001b[39;00m\n\u001b[1;32m    295\u001b[0m \u001b[38;5;28mself\u001b[39m\u001b[38;5;241m.\u001b[39mcheck_availability()\n\u001b[0;32m--> 296\u001b[0m \u001b[38;5;28;01mreturn\u001b[39;00m StreamQuery(\u001b[38;5;28;43mself\u001b[39;49m\u001b[38;5;241;43m.\u001b[39;49m\u001b[43mfmt_streams\u001b[49m)\n",
      "File \u001b[0;32m~/miniconda3/envs/xclip/lib/python3.10/site-packages/pytube/__main__.py:181\u001b[0m, in \u001b[0;36mYouTube.fmt_streams\u001b[0;34m(self)\u001b[0m\n\u001b[1;32m    178\u001b[0m \u001b[38;5;66;03m# If the cached js doesn't work, try fetching a new js file\u001b[39;00m\n\u001b[1;32m    179\u001b[0m \u001b[38;5;66;03m# https://github.com/pytube/pytube/issues/1054\u001b[39;00m\n\u001b[1;32m    180\u001b[0m \u001b[38;5;28;01mtry\u001b[39;00m:\n\u001b[0;32m--> 181\u001b[0m     \u001b[43mextract\u001b[49m\u001b[38;5;241;43m.\u001b[39;49m\u001b[43mapply_signature\u001b[49m\u001b[43m(\u001b[49m\u001b[43mstream_manifest\u001b[49m\u001b[43m,\u001b[49m\u001b[43m \u001b[49m\u001b[38;5;28;43mself\u001b[39;49m\u001b[38;5;241;43m.\u001b[39;49m\u001b[43mvid_info\u001b[49m\u001b[43m,\u001b[49m\u001b[43m \u001b[49m\u001b[38;5;28;43mself\u001b[39;49m\u001b[38;5;241;43m.\u001b[39;49m\u001b[43mjs\u001b[49m\u001b[43m)\u001b[49m\n\u001b[1;32m    182\u001b[0m \u001b[38;5;28;01mexcept\u001b[39;00m exceptions\u001b[38;5;241m.\u001b[39mExtractError:\n\u001b[1;32m    183\u001b[0m     \u001b[38;5;66;03m# To force an update to the js file, we clear the cache and retry\u001b[39;00m\n\u001b[1;32m    184\u001b[0m     \u001b[38;5;28mself\u001b[39m\u001b[38;5;241m.\u001b[39m_js \u001b[38;5;241m=\u001b[39m \u001b[38;5;28;01mNone\u001b[39;00m\n",
      "File \u001b[0;32m~/miniconda3/envs/xclip/lib/python3.10/site-packages/pytube/extract.py:409\u001b[0m, in \u001b[0;36mapply_signature\u001b[0;34m(stream_manifest, vid_info, js)\u001b[0m\n\u001b[1;32m    400\u001b[0m \u001b[38;5;28;01mdef\u001b[39;00m \u001b[38;5;21mapply_signature\u001b[39m(stream_manifest: Dict, vid_info: Dict, js: \u001b[38;5;28mstr\u001b[39m) \u001b[38;5;241m-\u001b[39m\u001b[38;5;241m>\u001b[39m \u001b[38;5;28;01mNone\u001b[39;00m:\n\u001b[1;32m    401\u001b[0m \u001b[38;5;250m    \u001b[39m\u001b[38;5;124;03m\"\"\"Apply the decrypted signature to the stream manifest.\u001b[39;00m\n\u001b[1;32m    402\u001b[0m \n\u001b[1;32m    403\u001b[0m \u001b[38;5;124;03m    :param dict stream_manifest:\u001b[39;00m\n\u001b[0;32m   (...)\u001b[0m\n\u001b[1;32m    407\u001b[0m \n\u001b[1;32m    408\u001b[0m \u001b[38;5;124;03m    \"\"\"\u001b[39;00m\n\u001b[0;32m--> 409\u001b[0m     cipher \u001b[38;5;241m=\u001b[39m \u001b[43mCipher\u001b[49m\u001b[43m(\u001b[49m\u001b[43mjs\u001b[49m\u001b[38;5;241;43m=\u001b[39;49m\u001b[43mjs\u001b[49m\u001b[43m)\u001b[49m\n\u001b[1;32m    411\u001b[0m     \u001b[38;5;28;01mfor\u001b[39;00m i, stream \u001b[38;5;129;01min\u001b[39;00m \u001b[38;5;28menumerate\u001b[39m(stream_manifest):\n\u001b[1;32m    412\u001b[0m         \u001b[38;5;28;01mtry\u001b[39;00m:\n",
      "File \u001b[0;32m~/miniconda3/envs/xclip/lib/python3.10/site-packages/pytube/cipher.py:43\u001b[0m, in \u001b[0;36mCipher.__init__\u001b[0;34m(self, js)\u001b[0m\n\u001b[1;32m     37\u001b[0m \u001b[38;5;28mself\u001b[39m\u001b[38;5;241m.\u001b[39mtransform_map \u001b[38;5;241m=\u001b[39m get_transform_map(js, var)\n\u001b[1;32m     38\u001b[0m \u001b[38;5;28mself\u001b[39m\u001b[38;5;241m.\u001b[39mjs_func_patterns \u001b[38;5;241m=\u001b[39m [\n\u001b[1;32m     39\u001b[0m     \u001b[38;5;124mr\u001b[39m\u001b[38;5;124m\"\u001b[39m\u001b[38;5;124m\\\u001b[39m\u001b[38;5;124mw+\u001b[39m\u001b[38;5;124m\\\u001b[39m\u001b[38;5;124m.(\u001b[39m\u001b[38;5;124m\\\u001b[39m\u001b[38;5;124mw+)\u001b[39m\u001b[38;5;124m\\\u001b[39m\u001b[38;5;124m(\u001b[39m\u001b[38;5;124m\\\u001b[39m\u001b[38;5;124mw,(\u001b[39m\u001b[38;5;124m\\\u001b[39m\u001b[38;5;124md+)\u001b[39m\u001b[38;5;124m\\\u001b[39m\u001b[38;5;124m)\u001b[39m\u001b[38;5;124m\"\u001b[39m,\n\u001b[1;32m     40\u001b[0m     \u001b[38;5;124mr\u001b[39m\u001b[38;5;124m\"\u001b[39m\u001b[38;5;124m\\\u001b[39m\u001b[38;5;124mw+\u001b[39m\u001b[38;5;124m\\\u001b[39m\u001b[38;5;124m[(\u001b[39m\u001b[38;5;130;01m\\\"\u001b[39;00m\u001b[38;5;124m\\\u001b[39m\u001b[38;5;124mw+\u001b[39m\u001b[38;5;130;01m\\\"\u001b[39;00m\u001b[38;5;124m)\u001b[39m\u001b[38;5;124m\\\u001b[39m\u001b[38;5;124m]\u001b[39m\u001b[38;5;124m\\\u001b[39m\u001b[38;5;124m(\u001b[39m\u001b[38;5;124m\\\u001b[39m\u001b[38;5;124mw,(\u001b[39m\u001b[38;5;124m\\\u001b[39m\u001b[38;5;124md+)\u001b[39m\u001b[38;5;124m\\\u001b[39m\u001b[38;5;124m)\u001b[39m\u001b[38;5;124m\"\u001b[39m\n\u001b[1;32m     41\u001b[0m ]\n\u001b[0;32m---> 43\u001b[0m \u001b[38;5;28mself\u001b[39m\u001b[38;5;241m.\u001b[39mthrottling_plan \u001b[38;5;241m=\u001b[39m \u001b[43mget_throttling_plan\u001b[49m\u001b[43m(\u001b[49m\u001b[43mjs\u001b[49m\u001b[43m)\u001b[49m\n\u001b[1;32m     44\u001b[0m \u001b[38;5;28mself\u001b[39m\u001b[38;5;241m.\u001b[39mthrottling_array \u001b[38;5;241m=\u001b[39m get_throttling_function_array(js)\n\u001b[1;32m     46\u001b[0m \u001b[38;5;28mself\u001b[39m\u001b[38;5;241m.\u001b[39mcalculated_n \u001b[38;5;241m=\u001b[39m \u001b[38;5;28;01mNone\u001b[39;00m\n",
      "File \u001b[0;32m~/miniconda3/envs/xclip/lib/python3.10/site-packages/pytube/cipher.py:411\u001b[0m, in \u001b[0;36mget_throttling_plan\u001b[0;34m(js)\u001b[0m\n\u001b[1;32m    408\u001b[0m plan_regex \u001b[38;5;241m=\u001b[39m re\u001b[38;5;241m.\u001b[39mcompile(transform_start)\n\u001b[1;32m    409\u001b[0m match \u001b[38;5;241m=\u001b[39m plan_regex\u001b[38;5;241m.\u001b[39msearch(raw_code)\n\u001b[0;32m--> 411\u001b[0m transform_plan_raw \u001b[38;5;241m=\u001b[39m find_object_from_startpoint(raw_code, \u001b[43mmatch\u001b[49m\u001b[38;5;241;43m.\u001b[39;49m\u001b[43mspan\u001b[49m()[\u001b[38;5;241m1\u001b[39m] \u001b[38;5;241m-\u001b[39m \u001b[38;5;241m1\u001b[39m)\n\u001b[1;32m    413\u001b[0m \u001b[38;5;66;03m# Steps are either c[x](c[y]) or c[x](c[y],c[z])\u001b[39;00m\n\u001b[1;32m    414\u001b[0m step_start \u001b[38;5;241m=\u001b[39m \u001b[38;5;124mr\u001b[39m\u001b[38;5;124m\"\u001b[39m\u001b[38;5;124mc\u001b[39m\u001b[38;5;124m\\\u001b[39m\u001b[38;5;124m[(\u001b[39m\u001b[38;5;124m\\\u001b[39m\u001b[38;5;124md+)\u001b[39m\u001b[38;5;124m\\\u001b[39m\u001b[38;5;124m]\u001b[39m\u001b[38;5;124m\\\u001b[39m\u001b[38;5;124m(c\u001b[39m\u001b[38;5;124m\\\u001b[39m\u001b[38;5;124m[(\u001b[39m\u001b[38;5;124m\\\u001b[39m\u001b[38;5;124md+)\u001b[39m\u001b[38;5;124m\\\u001b[39m\u001b[38;5;124m](,c(\u001b[39m\u001b[38;5;124m\\\u001b[39m\u001b[38;5;124m[(\u001b[39m\u001b[38;5;124m\\\u001b[39m\u001b[38;5;124md+)\u001b[39m\u001b[38;5;124m\\\u001b[39m\u001b[38;5;124m]))?\u001b[39m\u001b[38;5;124m\\\u001b[39m\u001b[38;5;124m)\u001b[39m\u001b[38;5;124m\"\u001b[39m\n",
      "\u001b[0;31mAttributeError\u001b[0m: 'NoneType' object has no attribute 'span'"
     ]
    }
   ],
   "source": [
    "from pytube import YouTube\n",
    "def download_youtube_video(url: str):\n",
    "    yt = YouTube(url)\n",
    "\n",
    "    streams = yt.streams.filter(file_extension=\"mp4\")\n",
    "    file_path = streams[0].download()\n",
    "    return file_path\n",
    "download_youtube_video('https://www.youtube.com/watch?v=dQw4w9WgXcQ')"
   ]
  },
  {
   "cell_type": "code",
   "execution_count": null,
   "id": "647f7758-812a-44e8-a612-2275e1553852",
   "metadata": {},
   "outputs": [],
   "source": []
  }
 ],
 "metadata": {
  "kernelspec": {
   "display_name": "Python 3 (ipykernel)",
   "language": "python",
   "name": "python3"
  },
  "language_info": {
   "codemirror_mode": {
    "name": "ipython",
    "version": 3
   },
   "file_extension": ".py",
   "mimetype": "text/x-python",
   "name": "python",
   "nbconvert_exporter": "python",
   "pygments_lexer": "ipython3",
   "version": "3.10.0"
  }
 },
 "nbformat": 4,
 "nbformat_minor": 5
}
