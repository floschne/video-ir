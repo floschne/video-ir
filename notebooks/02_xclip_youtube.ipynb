{
 "cells": [
  {
   "cell_type": "code",
   "execution_count": 41,
   "metadata": {},
   "outputs": [],
   "source": [
    "import os\n",
    "import pandas as pd\n",
    "import torch \n",
    "from torchvision.transforms.functional import resize\n",
    "from torchvision.io import read_video\n",
    "from torch.utils.data import Dataset,DataLoader\n",
    "\n",
    "class CustomVideoDataset(Dataset):\n",
    "    def __init__(self, video_dir, transform=None, target_transform=None):\n",
    "        # self.img_labels = pd.read_csv(annotations_file)\n",
    "        self.video_dir = video_dir\n",
    "        self.transform = transform\n",
    "        self.target_transform = target_transform\n",
    "\n",
    "    def __len__(self):\n",
    "        count = 0\n",
    "        for path in os.listdir(self.video_dir):\n",
    "            count += 1\n",
    "        return count\n",
    "\n",
    "    def __getitem__(self, idx):\n",
    "        video_path = os.path.join(self.video_dir, os.listdir(self.video_dir)[idx])\n",
    "        print(video_path)\n",
    "        video = read_video(video_path)\n",
    "        video, _, _ = read_video(video_path)\n",
    "        print(video.shape)\n",
    "\n",
    "        if self.transform:\n",
    "            video = self.transform(video)\n",
    "        return video"
   ]
  },
  {
   "attachments": {},
   "cell_type": "markdown",
   "metadata": {},
   "source": [
    "The length of the videos are not the same which cuases an error in the stack"
   ]
  },
  {
   "cell_type": "code",
   "execution_count": null,
   "metadata": {},
   "outputs": [],
   "source": [
    "training_data = CustomVideoDataset(\"/raid/datasets/msr-vtt/TrainValVideo\")\n",
    "\n",
    "# first_data = training_data[0]\n",
    "# vid1 = first_data\n",
    "# print(vid1)\n",
    "\n",
    "train_dataloader = DataLoader(training_data, batch_size=2, shuffle=True)\n",
    "# test_dataloader = DataLoader(test_data, batch_size=64, shuffle=True)\n",
    "\n",
    "# Display video.\n",
    "data_iter = iter(train_dataloader)\n",
    "train_features = data_iter.next()\n",
    "f = train_features\n",
    "print(f)\n",
    "# print(f\"Feature batch shape: {train_features.size()}\")\n",
    "\n",
    "# video3870.mp4.scenes.txt\n",
    "# video3870.mp4.predictions.txt"
   ]
  },
  {
   "cell_type": "code",
   "execution_count": 20,
   "metadata": {},
   "outputs": [
    {
     "name": "stdout",
     "output_type": "stream",
     "text": [
      "[PySceneDetect] PySceneDetect v0.6.1\n",
      "[PySceneDetect] Detecting scenes...                                             \n",
      "Detected: 0 | Progress: 100%|████████████| 540/540 [00:01<00:00, 350.09frames/s]\n",
      "[PySceneDetect] Processed 540 frames in 1.6 seconds (average 348.02 FPS).\n",
      "[PySceneDetect] Saving frame metrics to stats file: video.stats.csv\n",
      "[PySceneDetect] Writing 539 frames to CSV...\n",
      "[PySceneDetect] Detected 1 scenes, average shot length 18.0 seconds.\n",
      "[PySceneDetect] Scene List:\n",
      "-----------------------------------------------------------------------\n",
      " | Scene # | Start Frame |  Start Time  |  End Frame  |   End Time   |\n",
      "-----------------------------------------------------------------------\n",
      " |      1  |           1 | 00:00:00.000 |         539 | 00:00:17.985 |\n",
      "-----------------------------------------------------------------------\n",
      "\n"
     ]
    }
   ],
   "source": [
    "!scenedetect -i /srv/home/ahmadi/gitrepos/video-ir/notebooks/video9504.mp4 -s video.stats.csv detect-content list-scenes -n\n",
    "\n",
    "#http://scenedetect.com/projects/Manual/en/latest/cli/detectors.html#detect-content"
   ]
  },
  {
   "attachments": {},
   "cell_type": "markdown",
   "metadata": {},
   "source": [
    "~/gitrepos/video-ir/notebooks/TransNetV2/inference$ python transnetv2.py /srv/home/ahmadi/gitrepos/video-ir/notebooks/video3870.mp4 "
   ]
  },
  {
   "cell_type": "code",
   "execution_count": null,
   "metadata": {},
   "outputs": [],
   "source": []
  }
 ],
 "metadata": {
  "kernelspec": {
   "display_name": "video-ir",
   "language": "python",
   "name": "python3"
  },
  "language_info": {
   "codemirror_mode": {
    "name": "ipython",
    "version": 3
   },
   "file_extension": ".py",
   "mimetype": "text/x-python",
   "name": "python",
   "nbconvert_exporter": "python",
   "pygments_lexer": "ipython3",
   "version": "3.10.10"
  },
  "orig_nbformat": 4
 },
 "nbformat": 4,
 "nbformat_minor": 2
}
