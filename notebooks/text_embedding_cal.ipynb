{
 "cells": [
  {
   "cell_type": "code",
   "execution_count": 2,
   "metadata": {},
   "outputs": [],
   "source": [
    "from transformers import AutoTokenizer, AutoModel\n",
    "import numpy as np\n",
    "\n",
    "\n",
    "def find_embedding(text_str):\n",
    "    tokenizer = AutoTokenizer.from_pretrained(\"microsoft/xclip-base-patch32\")\n",
    "    model = AutoModel.from_pretrained(\"microsoft/xclip-base-patch32\")\n",
    "    inputs = tokenizer([text_str], padding=True, return_tensors=\"pt\")\n",
    "    text_features = model.get_text_features(**inputs)\n",
    "    # print(type(text_features))\n",
    "\n",
    "    np_arr = text_features.cpu().detach().numpy()\n",
    "    return np_arr\n",
    "\n",
    "\n",
    "    \n",
    "\n",
    "text_str = \"news show in television\"\n",
    "embedding = find_embedding(text_str)\n",
    "\n",
    "# Save to file\n",
    "np.save('/srv/home/ahmadi/gitrepos/video-ir/text_(news)2.npy', embedding)"
   ]
  },
  {
   "cell_type": "code",
   "execution_count": null,
   "metadata": {},
   "outputs": [],
   "source": []
  }
 ],
 "metadata": {
  "kernelspec": {
   "display_name": "video-ir",
   "language": "python",
   "name": "python3"
  },
  "language_info": {
   "codemirror_mode": {
    "name": "ipython",
    "version": 3
   },
   "file_extension": ".py",
   "mimetype": "text/x-python",
   "name": "python",
   "nbconvert_exporter": "python",
   "pygments_lexer": "ipython3",
   "version": "3.10.10"
  },
  "orig_nbformat": 4
 },
 "nbformat": 4,
 "nbformat_minor": 2
}
